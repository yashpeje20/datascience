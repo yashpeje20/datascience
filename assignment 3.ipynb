{
 "cells": [
  {
   "cell_type": "markdown",
   "metadata": {},
   "source": [
    "# Question 1"
   ]
  },
  {
   "cell_type": "code",
   "execution_count": 1,
   "metadata": {},
   "outputs": [
    {
     "name": "stdout",
     "output_type": "stream",
     "text": [
      "[ 2  5  8 11 14 17 20 23 26 29 32 35 38 41 44 47 50]\n"
     ]
    }
   ],
   "source": [
    "#importing numpy packet\n",
    "import numpy as np\n",
    "#creating a numpy array\n",
    "array = np.arange(2,51,3)\n",
    "print(array)"
   ]
  },
  {
   "cell_type": "markdown",
   "metadata": {},
   "source": [
    "# Question 2"
   ]
  },
  {
   "cell_type": "code",
   "execution_count": 2,
   "metadata": {},
   "outputs": [
    {
     "name": "stdout",
     "output_type": "stream",
     "text": [
      "89\n",
      "15\n",
      "2\n",
      "56\n",
      "13\n",
      "List 1: [89, 15, 2, 56, 13]\n",
      "85\n",
      "15\n",
      "25\n",
      "6\n",
      "54\n",
      "List 2: [85, 15, 25, 6, 54]\n",
      "List 1 convert into array : [89 15  2 56 13]\n",
      "List 2 convert into array : [85 15 25  6 54]\n",
      "the concatenation of the two arrays is : [89 15  2 56 13 85 15 25  6 54]\n",
      "The sorted array is: [ 2  6 13 15 15 25 54 56 85 89]\n"
     ]
    }
   ],
   "source": [
    "#creating 2 lists\n",
    "list1 = []\n",
    "list2 = []\n",
    "#accepting 5 element in each list\n",
    "#for list1\n",
    "for i in range(5):\n",
    "    x = int(input())\n",
    "    list1.append(x)\n",
    "print(\"List 1:\",list1)\n",
    "#for list2\n",
    "for i in range(5):\n",
    "    y = int(input())\n",
    "    list2.append(y)\n",
    "print(\"List 2:\",list2)\n",
    "#Converting both lists into numpy array\n",
    "array1 = np.array(list1)\n",
    "array2 = np.array(list2)\n",
    "print(\"List 1 convert into array :\",array1)\n",
    "print(\"List 2 convert into array :\",array2)\n",
    "#concatenate both the arrays\n",
    "con = np.concatenate((array1,array2))\n",
    "print(\"the concatenation of the two arrays is :\",con)\n",
    "#sorting the arrays\n",
    "sort = np.sort(con)\n",
    "print(\"The sorted array is:\",sort)"
   ]
  },
  {
   "cell_type": "markdown",
   "metadata": {},
   "source": [
    "# Question 3 "
   ]
  },
  {
   "cell_type": "code",
   "execution_count": 3,
   "metadata": {},
   "outputs": [
    {
     "name": "stdout",
     "output_type": "stream",
     "text": [
      "The array is: [[1 6 3]\n",
      " [4 9 8]]\n",
      "The dimension of array is: 2\n",
      "The size of array is: 6\n"
     ]
    }
   ],
   "source": [
    "#Defining the array\n",
    "array = np.array([[1,6,3],[4,9,8]])\n",
    "print(\"The array is:\",array)\n",
    "#Finding the dimension of the array\n",
    "print(\"The dimension of array is:\",array.ndim)\n",
    "#Finding the size of the array\n",
    "print(\"The size of array is:\",array.size)"
   ]
  },
  {
   "cell_type": "markdown",
   "metadata": {},
   "source": [
    "# Question 4"
   ]
  },
  {
   "cell_type": "code",
   "execution_count": 6,
   "metadata": {},
   "outputs": [
    {
     "name": "stdout",
     "output_type": "stream",
     "text": [
      "7\n",
      "Shape of 1D array is: (7,)\n",
      "The row of 2D array is: (1, 7)\n",
      "The column of 2D array is: (7, 1)\n"
     ]
    }
   ],
   "source": [
    "#Defining the array\n",
    "array = np.arange(int(input()))\n",
    "#Checking the shape of 1D array created\n",
    "print(\"Shape of 1D array is:\",array.shape)\n",
    "#Converting 1D array into 2D array\n",
    "array_row = array [np.newaxis]\n",
    "print(\"The row of 2D array is:\",array_row.shape)\n",
    "array_col=array[:,np.newaxis]\n",
    "print(\"The column of 2D array is:\",array_col.shape)"
   ]
  },
  {
   "cell_type": "markdown",
   "metadata": {},
   "source": [
    "# Question 5 "
   ]
  },
  {
   "cell_type": "code",
   "execution_count": 7,
   "metadata": {},
   "outputs": [
    {
     "name": "stdout",
     "output_type": "stream",
     "text": [
      "Vertical Stacking :\n",
      " [[2 5]\n",
      " [3 9]\n",
      " [8 3]\n",
      " [6 7]]\n",
      "Horizontal stacking:\n",
      " [[2 5 8 3]\n",
      " [3 9 6 7]]\n"
     ]
    }
   ],
   "source": [
    "#creating square numpy arrays\n",
    "a = np.array([[2,5],[3,9]])\n",
    "b = np.array([[8,3],[6,7]])\n",
    "#vertical stacking \n",
    "print(\"Vertical Stacking :\\n\",np.vstack((a,b)))\n",
    "#Horizontal stacking \n",
    "print(\"Horizontal stacking:\\n\",np.hstack((a,b)))"
   ]
  },
  {
   "cell_type": "markdown",
   "metadata": {},
   "source": [
    "# Question 6"
   ]
  },
  {
   "cell_type": "code",
   "execution_count": 9,
   "metadata": {},
   "outputs": [
    {
     "name": "stdout",
     "output_type": "stream",
     "text": [
      "[[1 1]\n",
      " [2 1]\n",
      " [3 1]\n",
      " [4 1]\n",
      " [5 1]\n",
      " [6 1]\n",
      " [7 1]\n",
      " [8 1]\n",
      " [9 1]]\n"
     ]
    }
   ],
   "source": [
    "array = np.array([5,6,9,8,4,3,1,7,2])\n",
    "unique, counts = np.unique(array, return_counts=True)\n",
    "items = np.asarray((unique, counts)).T\n",
    "print(items)"
   ]
  },
  {
   "cell_type": "code",
   "execution_count": null,
   "metadata": {},
   "outputs": [],
   "source": []
  }
 ],
 "metadata": {
  "kernelspec": {
   "display_name": "Python 3",
   "language": "python",
   "name": "python3"
  },
  "language_info": {
   "codemirror_mode": {
    "name": "ipython",
    "version": 3
   },
   "file_extension": ".py",
   "mimetype": "text/x-python",
   "name": "python",
   "nbconvert_exporter": "python",
   "pygments_lexer": "ipython3",
   "version": "3.8.3"
  }
 },
 "nbformat": 4,
 "nbformat_minor": 4
}
