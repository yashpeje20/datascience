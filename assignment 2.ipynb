{
 "cells": [
  {
   "cell_type": "markdown",
   "metadata": {},
   "source": [
    "# Question 1"
   ]
  },
  {
   "cell_type": "code",
   "execution_count": 1,
   "metadata": {},
   "outputs": [
    {
     "name": "stdout",
     "output_type": "stream",
     "text": [
      "How many inputs do you want :10\n",
      "Enter the numbers :\n",
      "5\n",
      "6\n",
      "9\n",
      "8\n",
      "25\n",
      "65\n",
      "70\n",
      "3\n",
      "6\n",
      "4\n",
      "The even numbers from the input appended in the list are : [6, 8, 70, 6, 4]\n"
     ]
    }
   ],
   "source": [
    "#Create an empty list\n",
    "list = []\n",
    "#Input from the user\n",
    "num = int(input(\"How many inputs do you want :\"))\n",
    "#All the inputs will be stored in this list\n",
    "lines = []\n",
    "print(\"Enter the numbers :\")\n",
    "for i in range (num):\n",
    "    x = int(input())\n",
    "    lines.append(x)\n",
    "    if x >=100:\n",
    "        break\n",
    "for i in lines:\n",
    "    if i%2==0:\n",
    "        list.append(i)\n",
    "print(\"The even numbers from the input appended in the list are :\",list)"
   ]
  },
  {
   "cell_type": "markdown",
   "metadata": {},
   "source": [
    "# Question 2"
   ]
  },
  {
   "cell_type": "code",
   "execution_count": 2,
   "metadata": {},
   "outputs": [
    {
     "name": "stdout",
     "output_type": "stream",
     "text": [
      "['l', 'e', 't', 's', 'u', 'p', 'g', 'r', 'a', 'd', 'e']\n"
     ]
    }
   ],
   "source": [
    "#Iterating through a string using List Comprehension\n",
    "h_letters = [letter for letter in 'letsupgrade']\n",
    "print(h_letters)"
   ]
  },
  {
   "cell_type": "code",
   "execution_count": 4,
   "metadata": {},
   "outputs": [
    {
     "name": "stdout",
     "output_type": "stream",
     "text": [
      "[0, 2, 4, 6, 8]\n"
     ]
    }
   ],
   "source": [
    "#Using if with List Comprehension\n",
    "numbers = [ x for x in range (10) if x%2 == 0]\n",
    "print(numbers)"
   ]
  },
  {
   "cell_type": "code",
   "execution_count": 5,
   "metadata": {},
   "outputs": [
    {
     "name": "stdout",
     "output_type": "stream",
     "text": [
      "[0, 10, 20, 30, 40]\n"
     ]
    }
   ],
   "source": [
    "\n",
    "#Using nested if with List Comprehension\n",
    "num = [y for y in range(50) if y%2 == 0 if y%5 == 0]\n",
    "print(num)"
   ]
  },
  {
   "cell_type": "code",
   "execution_count": 6,
   "metadata": {},
   "outputs": [
    {
     "name": "stdout",
     "output_type": "stream",
     "text": [
      "['Even', 'Odd', 'Even', 'Odd', 'Even']\n"
     ]
    }
   ],
   "source": [
    "#Using if...else with List Comprehension\n",
    "num = [\"Even\" if i%2 == 0 else \"Odd\" for i in range(5)]\n",
    "print(num)"
   ]
  },
  {
   "cell_type": "markdown",
   "metadata": {},
   "source": [
    "# Question 3"
   ]
  },
  {
   "cell_type": "code",
   "execution_count": 7,
   "metadata": {},
   "outputs": [
    {
     "name": "stdout",
     "output_type": "stream",
     "text": [
      "4\n",
      "{1: 1, 2: 8, 3: 27, 4: 64}"
     ]
    }
   ],
   "source": [
    "n = int(input())\n",
    "dictionary = {}\n",
    "for i in range(n):\n",
    "    dictionary[i+1] = (i+1)**3\n",
    "print(dictionary,end=\"\")"
   ]
  },
  {
   "cell_type": "markdown",
   "metadata": {},
   "source": [
    "# Question 4\n"
   ]
  },
  {
   "cell_type": "code",
   "execution_count": 8,
   "metadata": {},
   "outputs": [
    {
     "name": "stdout",
     "output_type": "stream",
     "text": [
      "Enter the values in pair of direction and steps:\n",
      "UP 5\n",
      "DOWN 3\n",
      "LEFT 3\n",
      "RIGHT 2\n",
      "\n",
      "The distance from original position to the current position is : 2\n"
     ]
    }
   ],
   "source": [
    "pos = { \"x\" : 0, \"y\" : 0}\n",
    "print(\"Enter the values in pair of direction and steps:\")\n",
    "while True:\n",
    "    n = input()\n",
    "    if not n :\n",
    "        break\n",
    "    direction,steps = n.split()\n",
    "    if direction == \"UP\" :\n",
    "        pos[\"y\"] += int(steps)\n",
    "    elif direction == \"DOWN\" :\n",
    "        pos[\"y\"] -= int(steps)\n",
    "    elif direction == \"LEFT\" :\n",
    "        pos[\"x\"] -= int(steps)\n",
    "    elif direction == \"RIGHT\" :\n",
    "        pos[\"x\"] += int(steps)\n",
    "print(\"The distance from original position to the current position is :\",(int(round((pos[\"x\"]**2 + pos[\"y\"]**2)**0.5))))"
   ]
  },
  {
   "cell_type": "code",
   "execution_count": null,
   "metadata": {},
   "outputs": [],
   "source": []
  }
 ],
 "metadata": {
  "kernelspec": {
   "display_name": "Python 3",
   "language": "python",
   "name": "python3"
  },
  "language_info": {
   "codemirror_mode": {
    "name": "ipython",
    "version": 3
   },
   "file_extension": ".py",
   "mimetype": "text/x-python",
   "name": "python",
   "nbconvert_exporter": "python",
   "pygments_lexer": "ipython3",
   "version": "3.8.3"
  }
 },
 "nbformat": 4,
 "nbformat_minor": 4
}
